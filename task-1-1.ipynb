import pandas as pd
import numpy as np
import matplotlib.pyplot as plt
import seaborn as sns
from sklearn.model_selection import train_test_split, GridSearchCV
from sklearn.linear_model import LogisticRegression
from sklearn.ensemble import RandomForestClassifier
from sklearn.metrics import accuracy_score, roc_auc_score
from sklearn.preprocessing import OneHotEncoder
from sklearn.compose import ColumnTransformer

# Step 1: Load the dataset
data_path = 'PSP_Jan_Feb_2019.xlsx'
data = pd.read_excel(data_path)
# Data Preprocessing
data_cleaned = data.drop(columns=['Unnamed: 0'])
data_cleaned['tmsp'] = pd.to_datetime(data_cleaned['tmsp'])
data_cleaned['day_of_week'] = data_cleaned['tmsp'].dt.dayofweek
data_cleaned['hour_of_day'] = data_cleaned['tmsp'].dt.hour

# Drop the original timestamp column as it's now encoded
data_cleaned = data_cleaned.drop(columns=['tmsp'])

# Encode Categorical Variables
categorical_features = ['country', 'PSP', 'card']
one_hot_encoder = ColumnTransformer(transformers=[
    ('cat', OneHotEncoder(), categorical_features)
], remainder='passthrough')
features_encoded = one_hot_encoder.fit_transform(data_cleaned.drop(columns=['success']))
target = data_cleaned['success']

# Splitting Data
X_train, X_test, y_train, y_test = train_test_split(features_encoded, target, test_size=0.2, random_state=42)

# Logistic Regression Model
logistic_model = LogisticRegression(max_iter=1000)
logistic_model.fit(X_train, y_train)
y_pred = logistic_model.predict(X_test)
y_pred_proba = logistic_model.predict_proba(X_test)[:, 1]  # probabilities for the positive class
accuracy_lr = accuracy_score(y_test, y_pred)
roc_auc_lr = roc_auc_score(y_test, y_pred_proba)

# Random Forest Model
random_forest_model = RandomForestClassifier(n_estimators=100, random_state=42)
random_forest_model.fit(X_train, y_train)
y_pred_rf = random_forest_model.predict(X_test)
y_pred_proba_rf = random_forest_model.predict_proba(X_test)[:, 1]
accuracy_rf = accuracy_score(y_test, y_pred_rf)
roc_auc_rf = roc_auc_score(y_test, y_pred_proba_rf)

# Model Improvement - Hyperparameter Tuning for Random Forest
param_grid = {
    'n_estimators': [50, 100, 150],
    'max_features': ['auto', 'sqrt', 'log2'],
    'max_depth': [None, 10, 20, 30],
    'min_samples_split': [2, 5, 10],
    'min_samples_leaf': [1, 2, 4]
}
grid_search = GridSearchCV(estimator=RandomForestClassifier(random_state=42), param_grid=param_grid, cv=3, verbose=2, n_jobs=-1)
grid_search.fit(X_train, y_train)
best_rf = grid_search.best_estimator_

# Predict using the best model
y_pred_best_rf = best_rf.predict(X_test)
y_pred_proba_best_rf = best_rf.predict_proba(X_test)[:, 1]
accuracy_best_rf = accuracy_score(y_test, y_pred_best_rf)
roc_auc_best_rf = roc_auc_score(y_test, y_pred_proba_best_rf)

# Feature Importance Evaluation
importances = best_rf.feature_importances_
feature_names = one_hot_encoder.get_feature_names_out()
feature_importance_df = pd.DataFrame({'Feature': feature_names, 'Importance': importances}).sort_values(by='Importance', ascending=False)

# Display Results
print("Logistic Regression Accuracy:", accuracy_lr)
print("Logistic Regression ROC-AUC:", roc_auc_lr)
print("Random Forest Accuracy:", accuracy_rf)
print("Random Forest ROC-AUC:", roc_auc_rf)
print("Best Random Forest Accuracy:", accuracy_best_rf)
print("Best Random Forest ROC-AUC:", roc_auc_best_rf)
print(feature_importance_df.head(10))  # Top 10 most important features
